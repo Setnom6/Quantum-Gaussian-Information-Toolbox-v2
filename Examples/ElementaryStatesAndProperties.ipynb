{
 "cells": [
  {
   "cell_type": "markdown",
   "metadata": {},
   "source": [
    "# Elementary States and Properties\n",
    "\n",
    "## Some basics calculations on three initial states (vacuum, thermal and squeezed)\n",
    "\n",
    "##### qgt used as a module.py file"
   ]
  },
  {
   "cell_type": "code",
   "execution_count": 1,
   "metadata": {},
   "outputs": [],
   "source": [
    "import numpy as np\n",
    "import qgt"
   ]
  },
  {
   "cell_type": "code",
   "execution_count": 2,
   "metadata": {},
   "outputs": [
    {
     "name": "stdout",
     "output_type": "stream",
     "text": [
      "Vacuum State: 2-mode gaussian state with mean quadrature vector R =\n",
      "[[0.]\n",
      " [0.]\n",
      " [0.]\n",
      " [0.]]\n",
      "and covariance matrix V =\n",
      "[[1. 0. 0. 0.]\n",
      " [0. 1. 0. 0.]\n",
      " [0. 0. 1. 0.]\n",
      " [0. 0. 0. 1.]]\n",
      "\n",
      "Thermal State: 3-mode gaussian state with mean quadrature vector R =\n",
      "[[0.]\n",
      " [0.]\n",
      " [0.]\n",
      " [0.]\n",
      " [0.]\n",
      " [0.]]\n",
      "and covariance matrix V =\n",
      "[[10.   0.   0.   0.   0.   0. ]\n",
      " [ 0.  10.   0.   0.   0.   0. ]\n",
      " [ 0.   0.  11.4  0.   0.   0. ]\n",
      " [ 0.   0.   0.  11.4  0.   0. ]\n",
      " [ 0.   0.   0.   0.  12.5  0. ]\n",
      " [ 0.   0.   0.   0.   0.  12.5]]\n",
      "\n",
      "Squeezed state: 1-mode gaussian state with mean quadrature vector R =\n",
      "[[0.]\n",
      " [0.]]\n",
      "and covariance matrix V =\n",
      "[[ 0.04978707  0.        ]\n",
      " [ 0.         20.08553692]]\n",
      "\n"
     ]
    }
   ],
   "source": [
    "vacuum = qgt.Gaussian_state(\"vacuum\", 2)\n",
    "thermal = qgt.elementary_states(\"thermal\", [4.5, 5.2, 5.75])\n",
    "squeezed = qgt.elementary_states(\"squeezed\", [1.5 ])\n",
    "\n",
    "print(f\"Vacuum State: {vacuum}\\n\")\n",
    "print(f\"Thermal State: {thermal}\\n\")\n",
    "print(f\"Squeezed state: {squeezed}\\n\")"
   ]
  },
  {
   "cell_type": "code",
   "execution_count": 3,
   "metadata": {},
   "outputs": [
    {
     "name": "stdout",
     "output_type": "stream",
     "text": [
      "Symplectic eigenvalues of the Vacuum state:\n",
      "[[1.]\n",
      " [1.]]\n",
      "\n",
      "Von Neumann entropy of the Vacuum state:\n",
      "5.75453328741913e-14\n",
      "\n",
      "Purity of the Vacuum state:\n",
      "1.0000000000000007\n",
      "\n",
      "Average occupation number of the Vacuum state:\n",
      "[[0.]\n",
      " [0.]]\n",
      "\n",
      "\n",
      "Symplectic eigenvalues of the Thermal state:\n",
      "[[10. ]\n",
      " [11.4]\n",
      " [12.5]]\n",
      "\n",
      "Von Neumann entropy of the Thermal state:\n",
      "11.799023283467903\n",
      "\n",
      "Purity of the Thermal state:\n",
      "0.0007017543859649119\n",
      "\n",
      "Average occupation number of the Thermal state:\n",
      "[[4.5 ]\n",
      " [5.2 ]\n",
      " [5.75]]\n",
      "\n",
      "\n",
      "Symplectic eigenvalues of the Squeezed state:\n",
      "[[1.]]\n",
      "\n",
      "Von Neumann entropy of the Squeezed state:\n",
      "2.877266643709565e-14\n",
      "\n",
      "Purity of the Squeezed state:\n",
      "1.0000000000000002\n",
      "\n",
      "Average occupation number of the Squeezed state:\n",
      "[[4.533831]]\n",
      "\n",
      "\n"
     ]
    }
   ],
   "source": [
    "# Some properties of the states before any transformation\n",
    "states = {\"Vacuum\": vacuum, \"Thermal\": thermal, \"Squeezed\": squeezed}\n",
    "\n",
    "for name, state in states.items():\n",
    "    print(f\"Symplectic eigenvalues of the {name} state:\\n{state.symplectic_eigenvalues()}\\n\")\n",
    "    print(f\"Von Neumann entropy of the {name} state:\\n{state.von_Neumann_Entropy()}\\n\")\n",
    "    print(f\"Purity of the {name} state:\\n{state.purity()}\\n\")\n",
    "    print(f\"Average occupation number of the {name} state:\\n{state.occupation_number()}\\n\\n\")"
   ]
  }
 ],
 "metadata": {
  "kernelspec": {
   "display_name": "base",
   "language": "python",
   "name": "python3"
  },
  "language_info": {
   "codemirror_mode": {
    "name": "ipython",
    "version": 3
   },
   "file_extension": ".py",
   "mimetype": "text/x-python",
   "name": "python",
   "nbconvert_exporter": "python",
   "pygments_lexer": "ipython3",
   "version": "3.11.5"
  }
 },
 "nbformat": 4,
 "nbformat_minor": 2
}
