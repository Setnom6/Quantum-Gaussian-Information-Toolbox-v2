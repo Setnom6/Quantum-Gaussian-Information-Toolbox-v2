{
 "cells": [
  {
   "cell_type": "code",
   "execution_count": 1,
   "metadata": {},
   "outputs": [],
   "source": [
    "import sys\n",
    "sys.path.append('..')\n",
    "\n",
    "import qgt\n",
    "import numpy as np\n",
    "import matplotlib.pyplot as plt"
   ]
  },
  {
   "cell_type": "code",
   "execution_count": null,
   "metadata": {},
   "outputs": [],
   "source": []
  },
  {
   "cell_type": "code",
   "execution_count": 70,
   "metadata": {},
   "outputs": [],
   "source": [
    "# In this script we explore the problems related to the computation of Logarithmic Negativity naively\n",
    "\n",
    "# We will consider an example of a four mode Gaussain state, which initially is the vacuum and apply a transformation on it\n",
    "\n",
    "state = qgt.Gaussian_state(\"vacuum\", 4)\n",
    "\n",
    "# We will apply an strong two-mode squeezing operation on the first two modes\n",
    "\n",
    "r = 2\n",
    "theta = 0\n",
    "state.two_mode_squeezing(r, theta, [0,1])\n"
   ]
  },
  {
   "cell_type": "code",
   "execution_count": 40,
   "metadata": {},
   "outputs": [
    {
     "name": "stdout",
     "output_type": "stream",
     "text": [
      "Logarithmic Negativity between modes 1 and 2:  5.7707801635559095\n",
      "Logarithmic Negativity between mode 1 and the rest:  5.77078016355591\n",
      "Logarithmic Negativity between modes 1 and 3:  8.008566259537295e-16\n",
      "Logarithmic Negativity between mode 2 and the rest:  5.770780163556005\n",
      "Logarithmic Negativity between modes 2 and 3:  8.008566259537295e-16\n"
     ]
    }
   ],
   "source": [
    "# Before spreading the entanglement we will compute the Logarithmic Negativity of the state\n",
    "\n",
    "# Between first and second mode\n",
    "\n",
    "LN_12 = state.logarithmic_negativity([0],[1])\n",
    "\n",
    "print(\"Logarithmic Negativity between modes 1 and 2: \", LN_12)\n",
    "\n",
    "# Between first and the rest of the modes\n",
    "\n",
    "LN_1 = state.logarithmic_negativity([0],[1,2,3])\n",
    "\n",
    "print(\"Logarithmic Negativity between mode 1 and the rest: \", LN_1)\n",
    "\n",
    "# Between first and third and four\n",
    "\n",
    "LN_13 = state.logarithmic_negativity([0],[2,3])\n",
    "\n",
    "print(\"Logarithmic Negativity between modes 1 and 3: \", LN_13)\n",
    "\n",
    "# Between second and the rest of the modes\n",
    "\n",
    "LN_2 = state.logarithmic_negativity([1],[0,2,3])\n",
    "\n",
    "print(\"Logarithmic Negativity between mode 2 and the rest: \", LN_2)\n",
    "\n",
    "# Between second and third and four\n",
    "\n",
    "LN_23 = state.logarithmic_negativity([1],[2,3])\n",
    "\n",
    "print(\"Logarithmic Negativity between modes 2 and 3: \", LN_23)"
   ]
  },
  {
   "cell_type": "code",
   "execution_count": 71,
   "metadata": {},
   "outputs": [],
   "source": [
    "# Then a beam splitter between mode one and third\n",
    "\n",
    "tau = 0.01\n",
    "state.beam_splitter(tau, [0,2])\n",
    "\n",
    "# Finally a beam splitter between mode one and fourth\n",
    "\n",
    "tau = 0.50\n",
    "state.beam_splitter(tau, [2,3])\n"
   ]
  },
  {
   "cell_type": "code",
   "execution_count": 73,
   "metadata": {},
   "outputs": [
    {
     "name": "stdout",
     "output_type": "stream",
     "text": [
      "Logarithmic Negativity between modes 1 and 2:  0.028833174893992224\n",
      "Logarithmic Negativity between mode 1 and the rest:  1.024808348663177\n",
      "Logarithmic Negativity between modes 1, and 2 and 3:  0.0\n",
      "Logarithmic Negativity between mode 2 and the rest:  5.770780163555966\n",
      "Logarithmic Negativity between modes 2 and 3:  5.426732050546658\n"
     ]
    }
   ],
   "source": [
    "# Now we can compute the same Logarithmic Negativity of the state between different bipartitions\n",
    "\n",
    "# Between first and second mode\n",
    "\n",
    "LN_12 = state.logarithmic_negativity([0],[1])\n",
    "\n",
    "print(\"Logarithmic Negativity between modes 1 and 2: \", LN_12)\n",
    "\n",
    "# Between first and the rest of the modes\n",
    "\n",
    "LN_1 = state.logarithmic_negativity([0],[1,2,3])\n",
    "\n",
    "print(\"Logarithmic Negativity between mode 1 and the rest: \", LN_1)\n",
    "\n",
    "# Between first and third and four\n",
    "\n",
    "LN_13 = state.logarithmic_negativity([0],[2,3])\n",
    "\n",
    "print(\"Logarithmic Negativity between modes 1, and 2 and 3: \", LN_13)\n",
    "\n",
    "# Between second and the rest of the modes\n",
    "\n",
    "LN_2 = state.logarithmic_negativity([1],[0,2,3])\n",
    "\n",
    "print(\"Logarithmic Negativity between mode 2 and the rest: \", LN_2)\n",
    "\n",
    "# Between second and third and four\n",
    "\n",
    "LN_23 = state.logarithmic_negativity([1],[2,3])\n",
    "\n",
    "print(\"Logarithmic Negativity between modes 2 and 3: \", LN_23)\n",
    "\n"
   ]
  },
  {
   "cell_type": "code",
   "execution_count": 82,
   "metadata": {},
   "outputs": [
    {
     "data": {
      "image/png": "[encoded data removed]",
      "text/plain": [
       "<Figure size 640x480 with 1 Axes>"
      ]
     },
     "metadata": {},
     "output_type": "display_data"
    }
   ],
   "source": [
    "import matplotlib.pyplot as plt\n",
    "import matplotlib.ticker as ticker\n",
    "\n",
    "# Plot for all modes the Logarithmic Negativity between the mode and the rest\n",
    "LogNeg = []\n",
    "for mode in range(state.N_modes):\n",
    "    rest = [i for i in range(state.N_modes) if i != mode]\n",
    "    LogNeg.append(state.logarithmic_negativity([mode],rest))\n",
    "\n",
    "# Create a figure and axis\n",
    "fig, ax = plt.subplots()\n",
    "\n",
    "# Plot the data\n",
    "ax.plot(range(1,state.N_modes+1), LogNeg)\n",
    "\n",
    "# Set the xaxis to only use integer ticks\n",
    "ax.xaxis.set_major_locator(ticker.MaxNLocator(integer=True))\n",
    "\n",
    "# Set the lower limit of y axis to 0\n",
    "ax.set_ylim(bottom=0)\n",
    "\n",
    "# Set the xlabel and ylabel with increased font size\n",
    "ax.set_xlabel('Mode', fontsize=16)\n",
    "ax.set_ylabel('LN', fontsize=16)\n",
    "\n",
    "plt.savefig('Logarithmic_Negativity_multimode.png')\n",
    "# Show the plot\n",
    "plt.show()\n",
    "\n"
   ]
  },
  {
   "cell_type": "code",
   "execution_count": 76,
   "metadata": {},
   "outputs": [
    {
     "name": "stdout",
     "output_type": "stream",
     "text": [
      "Mean Logarithmic negativity per mode:  4.102817958224541\n"
     ]
    }
   ],
   "source": [
    "# Define the mean LogNeg per mode\n",
    "\n",
    "def mean_logneg(InState):\n",
    "    mean = 0\n",
    "    for i in range(InState.N_modes):\n",
    "        rest = [j for j in range(InState.N_modes) if j != i]\n",
    "        mean += InState.logarithmic_negativity([i],rest)\n",
    "    return mean/(InState.N_modes)\n",
    "\n",
    "mean = mean_logneg(state)\n",
    "print(\"Mean Logarithmic negativity per mode: \", mean)"
   ]
  }
 ],
 "metadata": {
  "kernelspec": {
   "display_name": "base",
   "language": "python",
   "name": "python3"
  },
  "language_info": {
   "codemirror_mode": {
    "name": "ipython",
    "version": 3
   },
   "file_extension": ".py",
   "mimetype": "text/x-python",
   "name": "python",
   "nbconvert_exporter": "python",
   "pygments_lexer": "ipython3",
   "version": "3.11.5"
  }
 },
 "nbformat": 4,
 "nbformat_minor": 2
}
